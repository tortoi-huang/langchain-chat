{
 "cells": [
  {
   "cell_type": "code",
   "execution_count": 1,
   "id": "409c0228",
   "metadata": {},
   "outputs": [
    {
     "name": "stderr",
     "output_type": "stream",
     "text": [
      "c:\\Users\\ghuang11\\study\\ml\\yh-fin\\.venv\\Lib\\site-packages\\pydub\\utils.py:170: RuntimeWarning: Couldn't find ffmpeg or avconv - defaulting to ffmpeg, but may not work\n",
      "  warn(\"Couldn't find ffmpeg or avconv - defaulting to ffmpeg, but may not work\", RuntimeWarning)\n"
     ]
    }
   ],
   "source": [
    "import os\n",
    "import shutil\n",
    "from pathlib import Path\n",
    "from docx import Document\n",
    "import comtypes.client  # 用于 Word 转换\n",
    "import fitz  # pip install PyMuPDF，用于 PDF 转 DOCX\n",
    "import pandas as pd\n",
    "\n",
    "import markitdown  # 假设你已安装并配置好 MarkItDown\n",
    "import glob\n",
    "\n",
    "# 源目录和目标目录\n",
    "source_dir = r\"C:\\\\Users\\\\ghuang11\\\\work\\\\project\\\\cmmi5\\\\CMMI5\\\\02.Org-Cfg-Repo\"\n",
    "tmp_dir = r\"C:\\\\Users\\\\ghuang11\\\\study\\\\cmmi5_training\\\\tmp\"\n",
    "target_dir = r\"C:\\\\Users\\\\ghuang11\\\\study\\\\cmmi5_training\\\\output\""
   ]
  },
  {
   "cell_type": "code",
   "execution_count": null,
   "id": "2fc3fc3a",
   "metadata": {},
   "outputs": [],
   "source": [
    "\n",
    "def is_hidden_or_temp(path):\n",
    "    parts = Path(path).parts\n",
    "    return any(\n",
    "        part.lower() in ['02.组织培训库', '04.组织风险库', '05.经验教训库', '06.样例库', '07.产品库'] \n",
    "        or part.startswith('.') \n",
    "        or part.startswith('~') \n",
    "        for part in parts)\n",
    "\n",
    "def convert_pdf_to_docx(pdf_path, docx_path):\n",
    "    doc = fitz.open(pdf_path)\n",
    "    text = \"\\n\".join(page.get_text() for page in doc)\n",
    "    doc.close()\n",
    "    document = Document()\n",
    "    document.add_paragraph(text)\n",
    "    document.save(docx_path)\n",
    "\n",
    "def convert_doc_to_docx(doc_path, docx_path, word):\n",
    "    # word = comtypes.client.CreateObject('Word.Application')\n",
    "    # word.Visible = False\n",
    "    doc = word.Documents.Open(doc_path)\n",
    "    doc.SaveAs(docx_path, FileFormat=16)  # 16 = wdFormatDocumentDefault (docx)\n",
    "    doc.Close()\n",
    "    # word.Quit()\n",
    "\n",
    "def convert_xls_to_xlsx(xls_path, xlsx_path):\n",
    "    df = pd.read_excel(xls_path, engine='xlrd')\n",
    "    df.to_excel(xlsx_path, index=False)"
   ]
  },
  {
   "cell_type": "code",
   "execution_count": null,
   "metadata": {},
   "outputs": [],
   "source": [
    "def prepare_tmp_directory():\n",
    "    os.makedirs(tmp_dir, exist_ok=True)\n",
    "    word = comtypes.client.CreateObject('Word.Application')\n",
    "    for root, dirs, files in os.walk(source_dir):\n",
    "        if is_hidden_or_temp(root):\n",
    "            continue\n",
    "        for file in files:\n",
    "            ext = file.lower().split('.')[-1]\n",
    "            full_path = os.path.join(root, file)\n",
    "            rel_path = os.path.relpath(full_path, source_dir)\n",
    "            tmp_path = os.path.join(tmp_dir, rel_path)\n",
    "            os.makedirs(os.path.dirname(tmp_path), exist_ok=True)\n",
    "\n",
    "            try:\n",
    "                if ext == 'docx':\n",
    "                    shutil.copy2(full_path, tmp_path)\n",
    "                elif ext == 'doc':\n",
    "                    convert_doc_to_docx(full_path, tmp_path + '.docx', word)\n",
    "                elif ext == 'pdf':\n",
    "                    convert_pdf_to_docx(full_path, tmp_path + '.docx')\n",
    "                elif ext == 'xls':\n",
    "                    convert_xls_to_xlsx(full_path, tmp_path + '.xlsx')\n",
    "                elif ext == 'xlsx':\n",
    "                    shutil.copy2(full_path, tmp_path)\n",
    "            except Exception as e:\n",
    "                print(f\"跳过文件 {full_path}，错误：{e}\")\n",
    "    word.Quit()\n",
    "\n",
    "prepare_tmp_directory()"
   ]
  },
  {
   "cell_type": "code",
   "execution_count": 2,
   "id": "1b6f1d6b",
   "metadata": {},
   "outputs": [],
   "source": [
    "converter = markitdown.MarkItDown()\n",
    "def convert_docx_to_md(docx_path, md_path):\n",
    "    try:\n",
    "        markdown_content = converter.convert(docx_path)  # 返回 Markdown 字符串\n",
    "        with open(md_path, 'w', encoding='utf-8') as f:\n",
    "            f.write(markdown_content.text_content)\n",
    "    except Exception as e:\n",
    "        print(f\"转换失败：{docx_path} -> {md_path}，错误：{e}\")"
   ]
  },
  {
   "cell_type": "code",
   "execution_count": 3,
   "id": "2a13e4e1",
   "metadata": {},
   "outputs": [
    {
     "name": "stdout",
     "output_type": "stream",
     "text": [
      "Processing C:\\\\Users\\\\ghuang11\\\\study\\\\cmmi5_training\\\\tmp\\01.标准过程库\\01.CMMI体系认证\\01.体系概要\\00-研发体系管理手册.docx -> C:\\\\Users\\\\ghuang11\\\\study\\\\cmmi5_training\\\\output\\01.标准过程库\\01.CMMI体系认证\\01.体系概要\\00-研发体系管理手册.md\n",
      "Processing C:\\\\Users\\\\ghuang11\\\\study\\\\cmmi5_training\\\\tmp\\01.标准过程库\\01.CMMI体系认证\\01.体系概要\\01-软件生命周期模型.docx -> C:\\\\Users\\\\ghuang11\\\\study\\\\cmmi5_training\\\\output\\01.标准过程库\\01.CMMI体系认证\\01.体系概要\\01-软件生命周期模型.md\n",
      "Processing C:\\\\Users\\\\ghuang11\\\\study\\\\cmmi5_training\\\\tmp\\01.标准过程库\\01.CMMI体系认证\\02.过程管理\\01 组织资产开发\\组织资产开发.docx -> C:\\\\Users\\\\ghuang11\\\\study\\\\cmmi5_training\\\\output\\01.标准过程库\\01.CMMI体系认证\\02.过程管理\\01 组织资产开发\\组织资产开发.md\n",
      "Processing C:\\\\Users\\\\ghuang11\\\\study\\\\cmmi5_training\\\\tmp\\01.标准过程库\\01.CMMI体系认证\\02.过程管理\\01 组织资产开发\\指南\\01-组织资产库管理指南.docx -> C:\\\\Users\\\\ghuang11\\\\study\\\\cmmi5_training\\\\output\\01.标准过程库\\01.CMMI体系认证\\02.过程管理\\01 组织资产开发\\指南\\01-组织资产库管理指南.md\n",
      "Processing C:\\\\Users\\\\ghuang11\\\\study\\\\cmmi5_training\\\\tmp\\01.标准过程库\\01.CMMI体系认证\\02.过程管理\\01 组织资产开发\\指南\\02-组织工作环境标准.docx -> C:\\\\Users\\\\ghuang11\\\\study\\\\cmmi5_training\\\\output\\01.标准过程库\\01.CMMI体系认证\\02.过程管理\\01 组织资产开发\\指南\\02-组织工作环境标准.md\n",
      "Processing C:\\\\Users\\\\ghuang11\\\\study\\\\cmmi5_training\\\\tmp\\01.标准过程库\\01.CMMI体系认证\\02.过程管理\\02 管理绩效与度量过程\\组织过程性能基线模型指南.doc.docx -> C:\\\\Users\\\\ghuang11\\\\study\\\\cmmi5_training\\\\output\\01.标准过程库\\01.CMMI体系认证\\02.过程管理\\02 管理绩效与度量过程\\组织过程性能基线模型指南.doc.md\n",
      "Processing C:\\\\Users\\\\ghuang11\\\\study\\\\cmmi5_training\\\\tmp\\01.标准过程库\\01.CMMI体系认证\\02.过程管理\\02 管理绩效与度量过程\\组织过程性能管理过程.doc.docx -> C:\\\\Users\\\\ghuang11\\\\study\\\\cmmi5_training\\\\output\\01.标准过程库\\01.CMMI体系认证\\02.过程管理\\02 管理绩效与度量过程\\组织过程性能管理过程.doc.md\n",
      "Processing C:\\\\Users\\\\ghuang11\\\\study\\\\cmmi5_training\\\\tmp\\01.标准过程库\\01.CMMI体系认证\\02.过程管理\\02 管理绩效与度量过程\\绩效管理与度量过程.docx -> C:\\\\Users\\\\ghuang11\\\\study\\\\cmmi5_training\\\\output\\01.标准过程库\\01.CMMI体系认证\\02.过程管理\\02 管理绩效与度量过程\\绩效管理与度量过程.md\n"
     ]
    },
    {
     "name": "stderr",
     "output_type": "stream",
     "text": [
      "Some characters could not be decoded, and were replaced with REPLACEMENT CHARACTER.\n"
     ]
    }
   ],
   "source": [
    "\n",
    "\n",
    "def convert_tmp_to_target():\n",
    "    count = 0\n",
    "    fail_count = 0\n",
    "    for root, dirs, files in os.walk(tmp_dir):\n",
    "        for file in files:\n",
    "            ext = file.lower().split('.')[-1]\n",
    "            full_path = os.path.join(root, file)\n",
    "            rel_path = os.path.relpath(full_path, tmp_dir)\n",
    "            target_path = os.path.join(target_dir, rel_path)\n",
    "\n",
    "            os.makedirs(os.path.dirname(target_path), exist_ok=True)\n",
    "\n",
    "            count += 1\n",
    "            try:\n",
    "                if ext == 'docx':\n",
    "                    md_path = os.path.splitext(target_path)[0] + '.md'\n",
    "                    if count < 10:\n",
    "                        print(f\"Processing {full_path} -> {md_path}\")\n",
    "                    convert_docx_to_md(full_path, md_path)\n",
    "                # elif ext == 'xlsx':\n",
    "                #     df = pd.read_excel(full_path)\n",
    "                #     csv_path = os.path.splitext(target_path)[0] + '.csv'\n",
    "                #     df.to_csv(csv_path, index=False)\n",
    "            except Exception as e:\n",
    "                print(f\"转换失败：{full_path}，错误：{e}\")\n",
    "                fail_count += 1\n",
    "                if fail_count > 5 and fail_count / count > 0.8:\n",
    "                    print(f\"错误次数过多{fail_count}/{count}，停止转换。\")\n",
    "                    raise e\n",
    "\n",
    "convert_tmp_to_target()"
   ]
  }
 ],
 "metadata": {
  "kernelspec": {
   "display_name": ".venv (3.13.9)",
   "language": "python",
   "name": "python3"
  },
  "language_info": {
   "codemirror_mode": {
    "name": "ipython",
    "version": 3
   },
   "file_extension": ".py",
   "mimetype": "text/x-python",
   "name": "python",
   "nbconvert_exporter": "python",
   "pygments_lexer": "ipython3",
   "version": "3.13.9"
  }
 },
 "nbformat": 4,
 "nbformat_minor": 5
}
