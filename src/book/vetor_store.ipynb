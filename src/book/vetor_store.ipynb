{
 "cells": [
  {
   "cell_type": "markdown",
   "id": "c812647d",
   "metadata": {},
   "source": [
    "# 构建向量数据库\n",
    "读取文本文件，构建嵌入式向量数据库"
   ]
  },
  {
   "cell_type": "code",
   "execution_count": 1,
   "id": "d9eb834d",
   "metadata": {},
   "outputs": [
    {
     "name": "stderr",
     "output_type": "stream",
     "text": [
      "c:\\Users\\ghuang11\\study\\ml\\yh-fin\\.venv\\Lib\\site-packages\\tqdm\\auto.py:21: TqdmWarning: IProgress not found. Please update jupyter and ipywidgets. See https://ipywidgets.readthedocs.io/en/stable/user_install.html\n",
      "  from .autonotebook import tqdm as notebook_tqdm\n"
     ]
    }
   ],
   "source": [
    "import os\n",
    "from langchain_community.document_loaders import DirectoryLoader, UnstructuredMarkdownLoader\n",
    "from langchain_text_splitters import MarkdownHeaderTextSplitter, RecursiveCharacterTextSplitter\n",
    "from langchain_huggingface import HuggingFaceEmbeddings\n",
    "from langchain_chroma import Chroma"
   ]
  },
  {
   "cell_type": "code",
   "execution_count": 2,
   "id": "0008591b",
   "metadata": {},
   "outputs": [
    {
     "name": "stderr",
     "output_type": "stream",
     "text": [
      "  0%|          | 0/75 [00:00<?, ?it/s]Error loading file data\\08.组织级工作区\\01.EPG工作区\\01.过程改进计划及建议\\03-组织过程改进计划.doc.md\n"
     ]
    },
    {
     "ename": "ModuleNotFoundError",
     "evalue": "No module named 'unstructured'",
     "output_type": "error",
     "traceback": [
      "\u001b[31m---------------------------------------------------------------------------\u001b[39m",
      "\u001b[31mModuleNotFoundError\u001b[39m                       Traceback (most recent call last)",
      "\u001b[36mCell\u001b[39m\u001b[36m \u001b[39m\u001b[32mIn[2]\u001b[39m\u001b[32m, line 8\u001b[39m\n\u001b[32m      1\u001b[39m \u001b[38;5;66;03m# 1. 加载 Markdown 文件\u001b[39;00m\n\u001b[32m      2\u001b[39m loader = DirectoryLoader(\n\u001b[32m      3\u001b[39m     path=\u001b[33m\"\u001b[39m\u001b[33mdata/\u001b[39m\u001b[33m\"\u001b[39m,\n\u001b[32m      4\u001b[39m     glob=\u001b[33m\"\u001b[39m\u001b[33m**/*.md\u001b[39m\u001b[33m\"\u001b[39m,  \u001b[38;5;66;03m# 仅匹配 .md 文件\u001b[39;00m\n\u001b[32m      5\u001b[39m     loader_cls=UnstructuredMarkdownLoader,\n\u001b[32m      6\u001b[39m     show_progress=\u001b[38;5;28;01mTrue\u001b[39;00m\n\u001b[32m      7\u001b[39m )\n\u001b[32m----> \u001b[39m\u001b[32m8\u001b[39m documents = \u001b[43mloader\u001b[49m\u001b[43m.\u001b[49m\u001b[43mload\u001b[49m\u001b[43m(\u001b[49m\u001b[43m)\u001b[49m\n",
      "\u001b[36mFile \u001b[39m\u001b[32mc:\\Users\\ghuang11\\study\\ml\\yh-fin\\.venv\\Lib\\site-packages\\langchain_community\\document_loaders\\directory.py:117\u001b[39m, in \u001b[36mDirectoryLoader.load\u001b[39m\u001b[34m(self)\u001b[39m\n\u001b[32m    115\u001b[39m \u001b[38;5;28;01mdef\u001b[39;00m\u001b[38;5;250m \u001b[39m\u001b[34mload\u001b[39m(\u001b[38;5;28mself\u001b[39m) -> List[Document]:\n\u001b[32m    116\u001b[39m \u001b[38;5;250m    \u001b[39m\u001b[33;03m\"\"\"Load documents.\"\"\"\u001b[39;00m\n\u001b[32m--> \u001b[39m\u001b[32m117\u001b[39m     \u001b[38;5;28;01mreturn\u001b[39;00m \u001b[38;5;28;43mlist\u001b[39;49m\u001b[43m(\u001b[49m\u001b[38;5;28;43mself\u001b[39;49m\u001b[43m.\u001b[49m\u001b[43mlazy_load\u001b[49m\u001b[43m(\u001b[49m\u001b[43m)\u001b[49m\u001b[43m)\u001b[49m\n",
      "\u001b[36mFile \u001b[39m\u001b[32mc:\\Users\\ghuang11\\study\\ml\\yh-fin\\.venv\\Lib\\site-packages\\langchain_community\\document_loaders\\directory.py:195\u001b[39m, in \u001b[36mDirectoryLoader.lazy_load\u001b[39m\u001b[34m(self)\u001b[39m\n\u001b[32m    193\u001b[39m \u001b[38;5;28;01melse\u001b[39;00m:\n\u001b[32m    194\u001b[39m     \u001b[38;5;28;01mfor\u001b[39;00m i \u001b[38;5;129;01min\u001b[39;00m items:\n\u001b[32m--> \u001b[39m\u001b[32m195\u001b[39m         \u001b[38;5;28;01myield from\u001b[39;00m \u001b[38;5;28mself\u001b[39m._lazy_load_file(i, p, pbar)\n\u001b[32m    197\u001b[39m \u001b[38;5;28;01mif\u001b[39;00m pbar:\n\u001b[32m    198\u001b[39m     pbar.close()\n",
      "\u001b[36mFile \u001b[39m\u001b[32mc:\\Users\\ghuang11\\study\\ml\\yh-fin\\.venv\\Lib\\site-packages\\langchain_community\\document_loaders\\directory.py:233\u001b[39m, in \u001b[36mDirectoryLoader._lazy_load_file\u001b[39m\u001b[34m(self, item, path, pbar)\u001b[39m\n\u001b[32m    231\u001b[39m     \u001b[38;5;28;01melse\u001b[39;00m:\n\u001b[32m    232\u001b[39m         logger.error(\u001b[33mf\u001b[39m\u001b[33m\"\u001b[39m\u001b[33mError loading file \u001b[39m\u001b[38;5;132;01m{\u001b[39;00m\u001b[38;5;28mstr\u001b[39m(item)\u001b[38;5;132;01m}\u001b[39;00m\u001b[33m\"\u001b[39m)\n\u001b[32m--> \u001b[39m\u001b[32m233\u001b[39m         \u001b[38;5;28;01mraise\u001b[39;00m e\n\u001b[32m    234\u001b[39m \u001b[38;5;28;01mfinally\u001b[39;00m:\n\u001b[32m    235\u001b[39m     \u001b[38;5;28;01mif\u001b[39;00m pbar:\n",
      "\u001b[36mFile \u001b[39m\u001b[32mc:\\Users\\ghuang11\\study\\ml\\yh-fin\\.venv\\Lib\\site-packages\\langchain_community\\document_loaders\\directory.py:221\u001b[39m, in \u001b[36mDirectoryLoader._lazy_load_file\u001b[39m\u001b[34m(self, item, path, pbar)\u001b[39m\n\u001b[32m    219\u001b[39m \u001b[38;5;28;01mtry\u001b[39;00m:\n\u001b[32m    220\u001b[39m     logger.debug(\u001b[33mf\u001b[39m\u001b[33m\"\u001b[39m\u001b[33mProcessing file: \u001b[39m\u001b[38;5;132;01m{\u001b[39;00m\u001b[38;5;28mstr\u001b[39m(item)\u001b[38;5;132;01m}\u001b[39;00m\u001b[33m\"\u001b[39m)\n\u001b[32m--> \u001b[39m\u001b[32m221\u001b[39m     loader = \u001b[38;5;28;43mself\u001b[39;49m\u001b[43m.\u001b[49m\u001b[43mloader_cls\u001b[49m\u001b[43m(\u001b[49m\u001b[38;5;28;43mstr\u001b[39;49m\u001b[43m(\u001b[49m\u001b[43mitem\u001b[49m\u001b[43m)\u001b[49m\u001b[43m,\u001b[49m\u001b[43m \u001b[49m\u001b[43m*\u001b[49m\u001b[43m*\u001b[49m\u001b[38;5;28;43mself\u001b[39;49m\u001b[43m.\u001b[49m\u001b[43mloader_kwargs\u001b[49m\u001b[43m)\u001b[49m\n\u001b[32m    222\u001b[39m     \u001b[38;5;28;01mtry\u001b[39;00m:\n\u001b[32m    223\u001b[39m         \u001b[38;5;28;01mfor\u001b[39;00m subdoc \u001b[38;5;129;01min\u001b[39;00m loader.lazy_load():\n",
      "\u001b[36mFile \u001b[39m\u001b[32mc:\\Users\\ghuang11\\study\\ml\\yh-fin\\.venv\\Lib\\site-packages\\langchain_community\\document_loaders\\markdown.py:90\u001b[39m, in \u001b[36mUnstructuredMarkdownLoader.__init__\u001b[39m\u001b[34m(self, file_path, mode, **unstructured_kwargs)\u001b[39m\n\u001b[32m     81\u001b[39m \u001b[38;5;250m\u001b[39m\u001b[33;03m\"\"\"\u001b[39;00m\n\u001b[32m     82\u001b[39m \n\u001b[32m     83\u001b[39m \u001b[33;03mArgs:\u001b[39;00m\n\u001b[32m   (...)\u001b[39m\u001b[32m     87\u001b[39m \u001b[33;03m    **unstructured_kwargs: Any kwargs to pass to the unstructured.\u001b[39;00m\n\u001b[32m     88\u001b[39m \u001b[33;03m\"\"\"\u001b[39;00m\n\u001b[32m     89\u001b[39m file_path = \u001b[38;5;28mstr\u001b[39m(file_path)\n\u001b[32m---> \u001b[39m\u001b[32m90\u001b[39m \u001b[43mvalidate_unstructured_version\u001b[49m\u001b[43m(\u001b[49m\u001b[33;43m\"\u001b[39;49m\u001b[33;43m0.4.16\u001b[39;49m\u001b[33;43m\"\u001b[39;49m\u001b[43m)\u001b[49m\n\u001b[32m     91\u001b[39m \u001b[38;5;28msuper\u001b[39m().\u001b[34m__init__\u001b[39m(file_path=file_path, mode=mode, **unstructured_kwargs)\n",
      "\u001b[36mFile \u001b[39m\u001b[32mc:\\Users\\ghuang11\\study\\ml\\yh-fin\\.venv\\Lib\\site-packages\\langchain_community\\document_loaders\\unstructured.py:42\u001b[39m, in \u001b[36mvalidate_unstructured_version\u001b[39m\u001b[34m(min_unstructured_version)\u001b[39m\n\u001b[32m     39\u001b[39m \u001b[38;5;28;01mdef\u001b[39;00m\u001b[38;5;250m \u001b[39m\u001b[34mvalidate_unstructured_version\u001b[39m(min_unstructured_version: \u001b[38;5;28mstr\u001b[39m) -> \u001b[38;5;28;01mNone\u001b[39;00m:\n\u001b[32m     40\u001b[39m \u001b[38;5;250m    \u001b[39m\u001b[33;03m\"\"\"Raise an error if the `Unstructured` version does not exceed the\u001b[39;00m\n\u001b[32m     41\u001b[39m \u001b[33;03m    specified minimum.\"\"\"\u001b[39;00m\n\u001b[32m---> \u001b[39m\u001b[32m42\u001b[39m     \u001b[38;5;28;01mif\u001b[39;00m \u001b[38;5;129;01mnot\u001b[39;00m \u001b[43msatisfies_min_unstructured_version\u001b[49m\u001b[43m(\u001b[49m\u001b[43mmin_unstructured_version\u001b[49m\u001b[43m)\u001b[49m:\n\u001b[32m     43\u001b[39m         \u001b[38;5;28;01mraise\u001b[39;00m \u001b[38;5;167;01mValueError\u001b[39;00m(\n\u001b[32m     44\u001b[39m             \u001b[33mf\u001b[39m\u001b[33m\"\u001b[39m\u001b[33munstructured>=\u001b[39m\u001b[38;5;132;01m{\u001b[39;00mmin_unstructured_version\u001b[38;5;132;01m}\u001b[39;00m\u001b[33m is required in this loader.\u001b[39m\u001b[33m\"\u001b[39m\n\u001b[32m     45\u001b[39m         )\n",
      "\u001b[36mFile \u001b[39m\u001b[32mc:\\Users\\ghuang11\\study\\ml\\yh-fin\\.venv\\Lib\\site-packages\\langchain_community\\document_loaders\\unstructured.py:25\u001b[39m, in \u001b[36msatisfies_min_unstructured_version\u001b[39m\u001b[34m(min_version)\u001b[39m\n\u001b[32m     22\u001b[39m \u001b[38;5;28;01mdef\u001b[39;00m\u001b[38;5;250m \u001b[39m\u001b[34msatisfies_min_unstructured_version\u001b[39m(min_version: \u001b[38;5;28mstr\u001b[39m) -> \u001b[38;5;28mbool\u001b[39m:\n\u001b[32m     23\u001b[39m \u001b[38;5;250m    \u001b[39m\u001b[33;03m\"\"\"Check if the installed `Unstructured` version exceeds the minimum version\u001b[39;00m\n\u001b[32m     24\u001b[39m \u001b[33;03m    for the feature in question.\"\"\"\u001b[39;00m\n\u001b[32m---> \u001b[39m\u001b[32m25\u001b[39m     \u001b[38;5;28;01mfrom\u001b[39;00m\u001b[38;5;250m \u001b[39m\u001b[34;01munstructured\u001b[39;00m\u001b[34;01m.\u001b[39;00m\u001b[34;01m__version__\u001b[39;00m\u001b[38;5;250m \u001b[39m\u001b[38;5;28;01mimport\u001b[39;00m __version__ \u001b[38;5;28;01mas\u001b[39;00m __unstructured_version__\n\u001b[32m     27\u001b[39m     min_version_tuple = \u001b[38;5;28mtuple\u001b[39m([\u001b[38;5;28mint\u001b[39m(x) \u001b[38;5;28;01mfor\u001b[39;00m x \u001b[38;5;129;01min\u001b[39;00m min_version.split(\u001b[33m\"\u001b[39m\u001b[33m.\u001b[39m\u001b[33m\"\u001b[39m)])\n\u001b[32m     29\u001b[39m     \u001b[38;5;66;03m# NOTE(MthwRobinson) - enables the loader to work when you're using pre-release\u001b[39;00m\n\u001b[32m     30\u001b[39m     \u001b[38;5;66;03m# versions of unstructured like 0.4.17-dev1\u001b[39;00m\n",
      "\u001b[31mModuleNotFoundError\u001b[39m: No module named 'unstructured'"
     ]
    }
   ],
   "source": [
    "# 1. 加载 Markdown 文件\n",
    "loader = DirectoryLoader(\n",
    "    path=\"data/\",\n",
    "    glob=\"**/*.md\",  # 仅匹配 .md 文件\n",
    "    loader_cls=UnstructuredMarkdownLoader,\n",
    "    show_progress=True\n",
    ")\n",
    "documents = loader.load()"
   ]
  },
  {
   "cell_type": "code",
   "execution_count": null,
   "id": "0d1f3ee6",
   "metadata": {},
   "outputs": [],
   "source": [
    "# 2. 分块（结合 Markdown 标题和字符分割）\n",
    "headers_to_split_on = [\n",
    "    (\"#\", \"Header 1\"),\n",
    "    (\"##\", \"Header 2\"),\n",
    "    (\"###\", \"Header 3\")\n",
    "]\n",
    "markdown_splitter = MarkdownHeaderTextSplitter(headers_to_split_on=headers_to_split_on)\n",
    "text_splitter = RecursiveCharacterTextSplitter(chunk_size=500, chunk_overlap=100)\n",
    "chunks = []\n",
    "for doc in documents:\n",
    "    md_chunks = markdown_splitter.split_text(doc.page_content)\n",
    "    for chunk in md_chunks:\n",
    "        chunk.metadata.update(doc.metadata)\n",
    "        chunks.extend(text_splitter.split_documents([chunk]))"
   ]
  },
  {
   "cell_type": "code",
   "execution_count": null,
   "id": "1c17ce2f",
   "metadata": {},
   "outputs": [],
   "source": [
    "# 3. 嵌入和向量存储\n",
    "embeddings = HuggingFaceEmbeddings(model_name=\"sentence-transformers/all-MiniLM-L6-v2\")\n",
    "vectorstore = Chroma.from_documents(\n",
    "    documents=chunks,\n",
    "    embedding=embeddings,\n",
    "    persist_directory=\"./chroma_db\"\n",
    ")\n",
    "print(\"向量存储已构建并保存到 ./chroma_db\")"
   ]
  }
 ],
 "metadata": {
  "kernelspec": {
   "display_name": "yh-fin (3.13.7)",
   "language": "python",
   "name": "python3"
  },
  "language_info": {
   "codemirror_mode": {
    "name": "ipython",
    "version": 3
   },
   "file_extension": ".py",
   "mimetype": "text/x-python",
   "name": "python",
   "nbconvert_exporter": "python",
   "pygments_lexer": "ipython3",
   "version": "3.13.7"
  }
 },
 "nbformat": 4,
 "nbformat_minor": 5
}
